{
 "cells": [
  {
   "cell_type": "code",
   "execution_count": 5,
   "metadata": {},
   "outputs": [],
   "source": [
    "def isAnagram(s: str, t: str) -> bool:\n",
    "        # what is an anagram\n",
    "        # t is an anagram of s if t has the same length as s and\n",
    "        # t uses the same number of letters as s\n",
    "        # example if s has the letter \"a\" 3 times, t should have the letter \"a\" 3 times\n",
    "      \n",
    "      \n",
    "        # are the two strings the same length \n",
    "        if len(s) != len(t):\n",
    "            return False\n",
    "        \n",
    "        #1 sorting and comparing the strings\n",
    "        return sorted(s) == sorted(t)\n",
    "\n",
    "        #2 using Counter\n",
    "        return Counter(s) == Counter(t)\n",
    "        \n",
    "        #3 using hashmaps\n",
    "        countS, countT = {},{}\n",
    "        \n",
    "        for i in range(len(s)):\n",
    "            countS[s[i]] = countS.get(s[i],0) + 1\n",
    "            countT[t[i]] = countT.get(t[i],0) + 1\n",
    "        for c in countS:\n",
    "            if countS[c] != countT.get(c,0):\n",
    "                return False    \n",
    "        return True\n",
    "        \n",
    "#A dictionary (also known as a map, hashmap or associative array) is a set of key/value pairs."
   ]
  },
  {
   "attachments": {},
   "cell_type": "markdown",
   "metadata": {},
   "source": [
    "# Test"
   ]
  },
  {
   "cell_type": "code",
   "execution_count": 6,
   "metadata": {},
   "outputs": [
    {
     "name": "stdout",
     "output_type": "stream",
     "text": [
      "True\n",
      "False\n"
     ]
    }
   ],
   "source": [
    "s = \"anagram\" \n",
    "t = \"nagaram\"\n",
    "print(isAnagram(s,t)) # True\n",
    "\n",
    "s = \"rat\"\n",
    "t = \"car\"\n",
    "print(isAnagram(s,t)) # False\n"
   ]
  }
 ],
 "metadata": {
  "kernelspec": {
   "display_name": "base",
   "language": "python",
   "name": "python3"
  },
  "language_info": {
   "codemirror_mode": {
    "name": "ipython",
    "version": 3
   },
   "file_extension": ".py",
   "mimetype": "text/x-python",
   "name": "python",
   "nbconvert_exporter": "python",
   "pygments_lexer": "ipython3",
   "version": "3.9.12"
  },
  "orig_nbformat": 4
 },
 "nbformat": 4,
 "nbformat_minor": 2
}
