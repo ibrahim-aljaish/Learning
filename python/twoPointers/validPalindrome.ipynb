{
 "cells": [
  {
   "attachments": {},
   "cell_type": "markdown",
   "metadata": {},
   "source": [
    "A phrase is a palindrome if, after converting all uppercase letters into lowercase letters and removing all non-alphanumeric characters, it reads the same forward and backward. Alphanumeric characters include letters and numbers.\n",
    "\n",
    "Given a string s, return true if it is a palindrome, or false otherwise."
   ]
  },
  {
   "cell_type": "code",
   "execution_count": 2,
   "metadata": {},
   "outputs": [],
   "source": [
    "#Using slicing and reversed():\n",
    "class Solution:\n",
    "    def isPalindrome(self, s: str) -> bool:\n",
    "\n",
    "        # Remove non-alphanumeric characters\n",
    "        s = ''.join(filter(str.isalnum, s))\n",
    "        # Convert string to lowercase\n",
    "        s = s.lower()\n",
    "        # Check if the string is equal to its reverse\n",
    "        return s == s[::-1]"
   ]
  },
  {
   "cell_type": "code",
   "execution_count": 4,
   "metadata": {},
   "outputs": [
    {
     "name": "stdout",
     "output_type": "stream",
     "text": [
      "True\n",
      "False\n",
      "True\n"
     ]
    }
   ],
   "source": [
    "solution = Solution()\n",
    "# test\n",
    "s = \"A man, a plan, a canal: Panama\"\n",
    "print(solution.isPalindrome(s)) #true\n",
    "s = \"race a car\"\n",
    "print(solution.isPalindrome(s)) #false\n",
    "s = \" \"\n",
    "print(solution.isPalindrome(s)) #true\n",
    "\n"
   ]
  },
  {
   "cell_type": "code",
   "execution_count": 5,
   "metadata": {},
   "outputs": [],
   "source": [
    "# using a loop\n",
    "def is_palindrome(s):\n",
    "    s = ''.join(filter(str.isalnum, s)).lower()\n",
    "    for i in range(len(s)):\n",
    "        if s[i] != s[-i-1]:\n",
    "            return False\n",
    "    return True\n"
   ]
  },
  {
   "cell_type": "code",
   "execution_count": null,
   "metadata": {},
   "outputs": [],
   "source": [
    "# using two pointers\n",
    "class Solution:\n",
    "    def isPalindrome(self, s: str) -> bool:\n",
    "        l, r = 0, len(s) - 1 # left and right pointers. left intially at zero, right is at the right side at the end of the string\n",
    "        while l < r:\n",
    "            while l < r and not self.alphanum(s[l]):\n",
    "                l += 1\n",
    "            while l < r and not self.alphanum(s[r]):\n",
    "                r -= 1\n",
    "            if s[l].lower() != s[r].lower():\n",
    "                return False\n",
    "            l += 1\n",
    "            r -= 1\n",
    "        return True\n",
    "\n",
    "    # Could write own alpha-numeric function\n",
    "    def alphanum(self, c):\n",
    "        return (\n",
    "            # ord returns the asci value of the character\n",
    "            ord(\"A\") <= ord(c) <= ord(\"Z\")\n",
    "            or ord(\"a\") <= ord(c) <= ord(\"z\")\n",
    "            or ord(\"0\") <= ord(c) <= ord(\"9\")\n",
    "        )\n",
    "\n"
   ]
  },
  {
   "attachments": {},
   "cell_type": "markdown",
   "metadata": {},
   "source": [
    "All three functions use the same basic idea of removing non-alphanumeric characters, converting to lowercase, and comparing the string to its reverse."
   ]
  }
 ],
 "metadata": {
  "kernelspec": {
   "display_name": "base",
   "language": "python",
   "name": "python3"
  },
  "language_info": {
   "codemirror_mode": {
    "name": "ipython",
    "version": 3
   },
   "file_extension": ".py",
   "mimetype": "text/x-python",
   "name": "python",
   "nbconvert_exporter": "python",
   "pygments_lexer": "ipython3",
   "version": "3.9.12"
  },
  "orig_nbformat": 4
 },
 "nbformat": 4,
 "nbformat_minor": 2
}
