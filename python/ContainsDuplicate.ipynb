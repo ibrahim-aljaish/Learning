{
 "cells": [
  {
   "attachments": {},
   "cell_type": "markdown",
   "metadata": {},
   "source": [
    "# brute forcing\n",
    "We can simply iterate through every pair of elements in the array and check if they are equal. If we find a pair of equal elements, we know that the array contains duplicates and we can return true. If we finish iterating through all possible pairs without finding any duplicates, we can return false."
   ]
  },
  {
   "cell_type": "code",
   "execution_count": 1,
   "metadata": {},
   "outputs": [],
   "source": [
    "def containsDuplicateBruteForce(nums):\n",
    "    n = len(nums)\n",
    "    for i in range(n):\n",
    "        for j in range(i+1, n):\n",
    "            if nums[i] == nums[j]:\n",
    "                return True\n",
    "    return False\n"
   ]
  },
  {
   "attachments": {},
   "cell_type": "markdown",
   "metadata": {},
   "source": [
    "This code has a time complexity of O(n^2), where n is the length of the input array, since we iterate through all possible pairs of elements in the array."
   ]
  },
  {
   "attachments": {},
   "cell_type": "markdown",
   "metadata": {},
   "source": [
    "# sorting the array first and checking neighbours\n",
    "we can solve this problem by sorting the array and then checking if there are any adjacent elements that are equal. If we find any adjacent equal elements, we know that the array contains duplicates and we can return true. If we finish iterating through the sorted array without finding any duplicates, we can return false."
   ]
  },
  {
   "cell_type": "code",
   "execution_count": null,
   "metadata": {},
   "outputs": [],
   "source": [
    "def containsDuplicateSort(nums):\n",
    "    nums.sort()\n",
    "    n = len(nums)\n",
    "    for i in range(n-1):\n",
    "        if nums[i] == nums[i+1]:\n",
    "            return True\n",
    "    return False\n"
   ]
  },
  {
   "attachments": {},
   "cell_type": "markdown",
   "metadata": {},
   "source": [
    "This code has a time complexity of O(n log n), where n is the length of the input array, since we need to sort the array first, which takes O(n log n) time, and then iterate through the sorted array, which takes O(n) time. The space complexity is O(1), since we only use constant space to store the loop variable and the sorted array."
   ]
  },
  {
   "attachments": {},
   "cell_type": "markdown",
   "metadata": {},
   "source": [
    "# hashset solution\n",
    "we can iterate through the array and use a hash set to keep track of the values we have seen. If we encounter a value that is already in the set, we know that it appears at least twice in the array, so we can return true. If we finish iterating through the array without finding any duplicates, we can return false."
   ]
  },
  {
   "cell_type": "code",
   "execution_count": 4,
   "metadata": {},
   "outputs": [],
   "source": [
    "def containsDuplicateHashset(nums):\n",
    "    seen = set()\n",
    "    for num in nums:\n",
    "        if num in seen:\n",
    "            return True\n",
    "        seen.add(num)\n",
    "    return False\n"
   ]
  },
  {
   "attachments": {},
   "cell_type": "markdown",
   "metadata": {},
   "source": [
    "This code has a time complexity of O(n), where n is the length of the input array, since we iterate through the array once and perform constant-time operations for each element. The space complexity is also O(n), since the worst-case scenario is that every element of the array is distinct, so we need to store all n elements in the hash set."
   ]
  },
  {
   "attachments": {},
   "cell_type": "markdown",
   "metadata": {},
   "source": [
    "# example"
   ]
  },
  {
   "cell_type": "code",
   "execution_count": 6,
   "metadata": {},
   "outputs": [
    {
     "name": "stdout",
     "output_type": "stream",
     "text": [
      "True\n",
      "False\n",
      "True\n"
     ]
    }
   ],
   "source": [
    "nums = [1,2,3,1] # true\n",
    "print(containsDuplicateHashset(nums))\n",
    "nums = [1,2,3,4] # false\n",
    "print(containsDuplicateHashset(nums))\n",
    "nums = [1,1,1,3,3,4,3,2,4,2] # true\n",
    "print(containsDuplicateHashset(nums))\n"
   ]
  }
 ],
 "metadata": {
  "kernelspec": {
   "display_name": "base",
   "language": "python",
   "name": "python3"
  },
  "language_info": {
   "codemirror_mode": {
    "name": "ipython",
    "version": 3
   },
   "file_extension": ".py",
   "mimetype": "text/x-python",
   "name": "python",
   "nbconvert_exporter": "python",
   "pygments_lexer": "ipython3",
   "version": "3.9.12"
  },
  "orig_nbformat": 4
 },
 "nbformat": 4,
 "nbformat_minor": 2
}
